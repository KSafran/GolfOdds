{
 "cells": [
  {
   "cell_type": "code",
   "execution_count": 7,
   "metadata": {
    "collapsed": true
   },
   "outputs": [],
   "source": [
    "from bs4 import BeautifulSoup\n",
    "import requests\n",
    "import json\n",
    "import re\n",
    "import pandas as pd\n",
    "import time\n",
    "import sqlite3"
   ]
  },
  {
   "cell_type": "code",
   "execution_count": 3,
   "metadata": {
    "collapsed": true
   },
   "outputs": [],
   "source": [
    "head = {'Accept' : 'text/html,application/xhtml+xml,application/xml;q=0.9,image/webp,image/apng,*/*;q=0.8',\n",
    "       'Accept-Encoding': 'gzip, deflate, br',\n",
    "       'Referer':'https://www.google.com/',\n",
    "       'User-Agent':'Mozilla/5.0 (Windows NT 10.0; Win64; x64) AppleWebKit/537.36 (KHTML, like Gecko) Chrome/59.0.3071.115 Safari/537.36'}\n",
    "bov = requests.get('https://sports.bovada.lv/golf', headers = head)"
   ]
  },
  {
   "cell_type": "code",
   "execution_count": 4,
   "metadata": {
    "scrolled": true
   },
   "outputs": [
    {
     "data": {
      "text/plain": [
       "bs4.element.Tag"
      ]
     },
     "execution_count": 4,
     "metadata": {},
     "output_type": "execute_result"
    }
   ],
   "source": [
    "bov_beaut = BeautifulSoup(bov.content, 'lxml')\n",
    "odds = bov_beaut.find('script', 'content-data')"
   ]
  },
  {
   "cell_type": "code",
   "execution_count": 17,
   "metadata": {},
   "outputs": [
    {
     "data": {
      "text/html": [
       "<div>\n",
       "<table border=\"1\" class=\"dataframe\">\n",
       "  <thead>\n",
       "    <tr style=\"text-align: right;\">\n",
       "      <th></th>\n",
       "      <th>player</th>\n",
       "      <th>bet_id</th>\n",
       "      <th>american_odds</th>\n",
       "      <th>decimal_odds</th>\n",
       "      <th>event</th>\n",
       "      <th>description</th>\n",
       "      <th>market_type</th>\n",
       "      <th>period_type</th>\n",
       "      <th>status</th>\n",
       "      <th>date</th>\n",
       "    </tr>\n",
       "  </thead>\n",
       "  <tbody>\n",
       "    <tr>\n",
       "      <th>0</th>\n",
       "      <td>Dustin Johnson</td>\n",
       "      <td>165714937</td>\n",
       "      <td>+1200</td>\n",
       "      <td>13.00</td>\n",
       "      <td>British Open 2017</td>\n",
       "      <td>Main Markets</td>\n",
       "      <td>RANK_OUTRIGHT</td>\n",
       "      <td>Tournament</td>\n",
       "      <td>OPEN</td>\n",
       "      <td>07/16/2017</td>\n",
       "    </tr>\n",
       "    <tr>\n",
       "      <th>1</th>\n",
       "      <td>Jordan Spieth</td>\n",
       "      <td>165714950</td>\n",
       "      <td>+1200</td>\n",
       "      <td>13.00</td>\n",
       "      <td>British Open 2017</td>\n",
       "      <td>Main Markets</td>\n",
       "      <td>RANK_OUTRIGHT</td>\n",
       "      <td>Tournament</td>\n",
       "      <td>OPEN</td>\n",
       "      <td>07/16/2017</td>\n",
       "    </tr>\n",
       "    <tr>\n",
       "      <th>2</th>\n",
       "      <td>Rory McIlroy</td>\n",
       "      <td>165714965</td>\n",
       "      <td>+1400</td>\n",
       "      <td>15.00</td>\n",
       "      <td>British Open 2017</td>\n",
       "      <td>Main Markets</td>\n",
       "      <td>RANK_OUTRIGHT</td>\n",
       "      <td>Tournament</td>\n",
       "      <td>OPEN</td>\n",
       "      <td>07/16/2017</td>\n",
       "    </tr>\n",
       "    <tr>\n",
       "      <th>3</th>\n",
       "      <td>Rickie Fowler</td>\n",
       "      <td>165714964</td>\n",
       "      <td>+1400</td>\n",
       "      <td>15.00</td>\n",
       "      <td>British Open 2017</td>\n",
       "      <td>Main Markets</td>\n",
       "      <td>RANK_OUTRIGHT</td>\n",
       "      <td>Tournament</td>\n",
       "      <td>OPEN</td>\n",
       "      <td>07/16/2017</td>\n",
       "    </tr>\n",
       "    <tr>\n",
       "      <th>4</th>\n",
       "      <td>Jon Rahm</td>\n",
       "      <td>165714948</td>\n",
       "      <td>+1400</td>\n",
       "      <td>15.00</td>\n",
       "      <td>British Open 2017</td>\n",
       "      <td>Main Markets</td>\n",
       "      <td>RANK_OUTRIGHT</td>\n",
       "      <td>Tournament</td>\n",
       "      <td>OPEN</td>\n",
       "      <td>07/16/2017</td>\n",
       "    </tr>\n",
       "  </tbody>\n",
       "</table>\n",
       "</div>"
      ],
      "text/plain": [
       "           player     bet_id american_odds decimal_odds              event  \\\n",
       "0  Dustin Johnson  165714937         +1200        13.00  British Open 2017   \n",
       "1   Jordan Spieth  165714950         +1200        13.00  British Open 2017   \n",
       "2    Rory McIlroy  165714965         +1400        15.00  British Open 2017   \n",
       "3   Rickie Fowler  165714964         +1400        15.00  British Open 2017   \n",
       "4        Jon Rahm  165714948         +1400        15.00  British Open 2017   \n",
       "\n",
       "    description    market_type period_type status        date  \n",
       "0  Main Markets  RANK_OUTRIGHT  Tournament   OPEN  07/16/2017  \n",
       "1  Main Markets  RANK_OUTRIGHT  Tournament   OPEN  07/16/2017  \n",
       "2  Main Markets  RANK_OUTRIGHT  Tournament   OPEN  07/16/2017  \n",
       "3  Main Markets  RANK_OUTRIGHT  Tournament   OPEN  07/16/2017  \n",
       "4  Main Markets  RANK_OUTRIGHT  Tournament   OPEN  07/16/2017  "
      ]
     },
     "execution_count": 17,
     "metadata": {},
     "output_type": "execute_result"
    }
   ],
   "source": [
    "reg = re.compile('\\*\\/.*\\/\\*')\n",
    "results = reg.search(odds.text)\n",
    "just_json = re.sub('\\*\\/|\\/\\*', '', results.group(0))\n",
    "parsed_json = json.loads(just_json)\n",
    "\n",
    "# Grab Meta-Data\n",
    "event = parsed_json[0]['card_data']['items'][0]['itemList']['items'][0]['description']\n",
    "description = parsed_json[0]['card_data']['items'][0]['itemList']['items'][0]['displayGroups'][0]['description']\n",
    "market_type = parsed_json[0]['card_data']['items'][0]['itemList']['items'][0]['displayGroups'][0]['itemList'][0]['marketTypeGroup']\n",
    "period_type = parsed_json[0]['card_data']['items'][0]['itemList']['items'][0]['displayGroups'][0]['itemList'][0]['periodType']\n",
    "status = parsed_json[0]['card_data']['items'][0]['itemList']['items'][0]['displayGroups'][0]['itemList'][0]['status']\n",
    "golfers_data = parsed_json[0]['card_data']['items'][0]['itemList']['items'][0]['displayGroups'][0]['itemList'][0]['outcomes']\n",
    "\n",
    "# Collect Player Data\n",
    "player = []\n",
    "bet_id = []\n",
    "american_odds = []\n",
    "decimal_odds = []\n",
    "for golfer in golfers_data:\n",
    "    player.append(golfer['description'])\n",
    "    bet_id.append(golfer['id'])\n",
    "    american_odds.append(golfer['price']['american'])\n",
    "    decimal_odds.append(golfer['price']['decimal'])\n",
    "\n",
    "# Throw data into a pandas DataFrame\n",
    "golf_df = pd.DataFrame({'player' : player, \n",
    "                        'bet_id' : bet_id,\n",
    "                        'american_odds' : american_odds, \n",
    "                        'decimal_odds' : decimal_odds})\n",
    "\n",
    "golf_df = golf_df[['player', 'bet_id', 'american_odds', 'decimal_odds']]\n",
    "golf_df['event'], golf_df['description'], golf_df['market_type'], golf_df['period_type'], golf_df['status'], golf_df['date'] = [event, description, market_type, period_type, status, time.strftime(\"%m/%d/%Y\")]\n",
    "golf_df.head()"
   ]
  }
 ],
 "metadata": {
  "kernelspec": {
   "display_name": "Python 3",
   "language": "python",
   "name": "python3"
  },
  "language_info": {
   "codemirror_mode": {
    "name": "ipython",
    "version": 3
   },
   "file_extension": ".py",
   "mimetype": "text/x-python",
   "name": "python",
   "nbconvert_exporter": "python",
   "pygments_lexer": "ipython3",
   "version": "3.6.0"
  }
 },
 "nbformat": 4,
 "nbformat_minor": 2
}
